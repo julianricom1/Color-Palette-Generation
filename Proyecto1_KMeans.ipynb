{
 "cells": [
  {
   "cell_type": "code",
   "execution_count": null,
   "id": "15ae0c15-0484-4be7-8dce-dfed3ff3d6e6",
   "metadata": {},
   "outputs": [],
   "source": [
    "# Librerias\n",
    "\n",
    "import pandas as pd\n",
    "import numpy as np\n",
    "import os\n",
    "import cv2\n",
    "import matplotlib.pyplot as plt\n",
    "from sklearn.pipeline import Pipeline\n",
    "from sklearn.metrics import silhouette_score, silhouette_samples\n",
    "from sklearn.cluster import AgglomerativeClustering, KMeans\n",
    "from sklearn.model_selection import KFold, GridSearchCV\n",
    "from sklearn.preprocessing import FunctionTransformer"
   ]
  },
  {
   "cell_type": "code",
   "execution_count": null,
   "id": "02bf234f-bbc7-478d-8f7b-7c7bcd031e80",
   "metadata": {},
   "outputs": [],
   "source": [
    "# Funcion para Cargar la imagen\n",
    "def load_image(image_path):\n",
    "    \"\"\"\n",
    "    # Carga una imagen cuyo path se ingresa por parametro\n",
    "    # image_path: String\n",
    "    #            Ruta a la imagen a cargar\n",
    "    \"\"\"\n",
    "    return cv2.cvtColor(cv2.imread(image_path), cv2.COLOR_BGR2RGB)"
   ]
  },
  {
   "cell_type": "code",
   "execution_count": null,
   "id": "6f93d1cf-91dd-4411-8374-bd0d096d798a",
   "metadata": {},
   "outputs": [],
   "source": [
    "# Pre-procesamiento de la imagen:  \n",
    "def image_processing(img_in, factor = 0.25, show = False): \n",
    "\n",
    "    \"\"\"\n",
    "    # Prepara una imagen para posteriormente un algoritmo de agrupación lo reciba    \n",
    "    # Parámetros: \n",
    "    # img_in : datatype\n",
    "    #          La imagen objetivo a procesar\n",
    "    # factor : float\n",
    "    #          El factor de reducción al que se desea submuestrear la imagen\n",
    "    # show   : bool\n",
    "    #          Activa o desactiva la visualización de la imagen y su versión submuestreada\n",
    "    \"\"\"\n",
    "    # submuestreo para ahorrar recursos computacionales\n",
    "    nuevo_ancho = int(img_in.shape[1]*factor)\n",
    "    nuevo_alto = int(img_in.shape[0]*factor)\n",
    "    nuevo_tamanio = (nuevo_ancho, nuevo_alto)\n",
    "\n",
    "    img_submuestreada = cv2.resize(img_in, nuevo_tamanio)\n",
    "    if show:\n",
    "        plt.figure(figsize=(10, 5))\n",
    "        plt.subplot(1, 2, 1)\n",
    "        plt.title(f'Imagen Original: {img_in.shape}')\n",
    "        plt.imshow(img_in)\n",
    "        plt.axis('off')\n",
    "        plt.subplot(1, 2, 2)\n",
    "        plt.title(f'Imagen submuestreada: {img_submuestreada.shape}')\n",
    "        plt.imshow(img_submuestreada)\n",
    "        plt.axis('off')\n",
    "        \n",
    "    # Darle formato a la imagen\n",
    "    img_final = img_submuestreada.reshape((-1, 3))/255\n",
    "    (total_pixels,n) = img_final.shape\n",
    "    return img_final"
   ]
  },
  {
   "cell_type": "code",
   "execution_count": null,
   "id": "b3cf80e0-0dfb-4584-a685-d1827772d733",
   "metadata": {},
   "outputs": [],
   "source": [
    "#Se crea el transformador del pre procesamiento de los datos\n",
    "image_processing_transformer = FunctionTransformer(image_processing)"
   ]
  },
  {
   "cell_type": "code",
   "execution_count": null,
   "id": "5723f8f4-c46a-4823-9c35-6abf2141276f",
   "metadata": {},
   "outputs": [],
   "source": [
    "# Funcion de busqueda de hiperparamentros\n",
    "def grid_search(img):\n",
    "\n",
    "    # Función de Scoring\n",
    "    def score_fn(modelo, data):\n",
    "            modelo.fit(data)\n",
    "            etiquetas = modelo.predict(data)\n",
    "            return silhouette_score(data, etiquetas) # TODO: Experimentar con otras métricas\n",
    "    \n",
    "    KM = KMeans(n_init = 10)\n",
    "    image_processed = image_processing(img)\n",
    "    params = {'n_clusters':[5,6,7]}\n",
    "    kfold = KFold(n_splits = 5, shuffle = True, random_state = 0)\n",
    "    grid = GridSearchCV(KM, params, cv = kfold, scoring = score_fn, n_jobs = -1)\n",
    "    grid.fit(image_processed)\n",
    "    best_k = grid.best_params_\n",
    "    return best_k['n_clusters']"
   ]
  },
  {
   "cell_type": "code",
   "execution_count": null,
   "id": "da7f00f9-ec48-44c2-ac42-074cbc0e56f2",
   "metadata": {},
   "outputs": [],
   "source": [
    "#Funcion para obtener la paleta de colores de una imagen especifica\n",
    "def plotColorPallete(raw_image, pipe, k):\n",
    "    \n",
    "    pipe.set_params(model__n_clusters = k)\n",
    "    pipe.fit(raw_image)\n",
    "    pipe.predict\n",
    "    colors = clip(pipe.named_steps['model'].cluster_centers_, 0, 1) #TODO: Al no ser necesariamente los centroides un color existente, pueden dar ligeramente negativos y se daña la visualizacion \n",
    "\n",
    "    # Mostrar la imagen original junto con su paleta de colores\n",
    "    fig, ax = plt.subplots(1,2,figsize=(5, 3))  \n",
    "    \n",
    "    ax[0].imshow(raw_image)\n",
    "    ax[0].set_title('Imagen Original')\n",
    "    ax[0].axis('off')\n",
    "    # crear la paleta\n",
    "    for i, color in enumerate(colors):\n",
    "        ax[1].bar(i, height=1, color=color, edgecolor='none', width=1)\n",
    "    \n",
    "    ax[1].set_title('Paleta de Colores')\n",
    "    ax[1].axis('off')\n",
    "    plt.tight_layout()\n",
    "    plt.show()"
   ]
  },
  {
   "cell_type": "code",
   "execution_count": null,
   "id": "02e57efa-baa9-404a-b58c-3a5fb4375bd2",
   "metadata": {},
   "outputs": [],
   "source": [
    "def getColorPallete(img_path, pipe):\n",
    "    raw_image = load_image(img_path)\n",
    "    best_k = grid_search(raw_image)\n",
    "    print(f'La ruta de la imagen es :{img_path}')\n",
    "    print(f'El mejor numero de clusters K es:{best_k}')\n",
    "    plotColorPallete(raw_image, pipe, best_k)"
   ]
  },
  {
   "cell_type": "code",
   "execution_count": null,
   "id": "c318d6d9-0a2c-4b2d-aa33-0da59aa56023",
   "metadata": {},
   "outputs": [],
   "source": [
    "#Se crea el pipeline\n",
    "pipe = Pipeline(steps=[('preprocesing',image_processing_transformer), ('model',KMeans(n_init = 10))])"
   ]
  },
  {
   "cell_type": "code",
   "execution_count": null,
   "id": "d6074596-ba1e-469f-b499-40a37b22a1bb",
   "metadata": {},
   "outputs": [],
   "source": [
    "getColorPallete('img/img1.jpg', pipe)"
   ]
  },
  {
   "cell_type": "code",
   "execution_count": null,
   "id": "99e77462-00d3-410d-b9f5-1a6455dc1fb2",
   "metadata": {},
   "outputs": [],
   "source": [
    "#Se obtiene la paleta para una image diferente\n",
    "getColorPallete('img/img2.jpg', pipe)"
   ]
  },
  {
   "cell_type": "code",
   "execution_count": null,
   "id": "eec2b774-b90f-4ee0-bb21-5d8e7fc28e4f",
   "metadata": {},
   "outputs": [],
   "source": [
    "#Se obtiene la paleta para una image diferente\n",
    "getColorPallete('img/img3.jpg', pipe)"
   ]
  },
  {
   "cell_type": "code",
   "execution_count": null,
   "id": "3f114bdb-f2de-41a2-ada2-1908afb56ed2",
   "metadata": {},
   "outputs": [],
   "source": [
    "#Se obtiene la paleta para una image diferente\n",
    "getColorPallete('img/img4.jpg', pipe)"
   ]
  }
 ],
 "metadata": {
  "kernelspec": {
   "display_name": "Python 3 (ipykernel)",
   "language": "python",
   "name": "python3"
  },
  "language_info": {
   "codemirror_mode": {
    "name": "ipython",
    "version": 3
   },
   "file_extension": ".py",
   "mimetype": "text/x-python",
   "name": "python",
   "nbconvert_exporter": "python",
   "pygments_lexer": "ipython3",
   "version": "3.11.5"
  }
 },
 "nbformat": 4,
 "nbformat_minor": 5
}
